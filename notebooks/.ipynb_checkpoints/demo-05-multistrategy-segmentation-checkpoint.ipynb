{
 "cells": [
  {
   "cell_type": "markdown",
   "id": "6a715d0a",
   "metadata": {},
   "source": [
    "# Demo 5: Multi-Strategy Customer Segmentation\n",
    "\n",
    "This notebook compares three customer segmentation approaches:\n",
    "1. **Cohort Analysis**\n",
    "2. **Churn Prediction Model**\n",
    "3. **Latent Trait Personas via PCA**\n",
    "\n",
    "Each method is applied to the same e-commerce dataset to illustrate different segmentation strategies and their business applications."
   ]
  },
  {
   "cell_type": "code",
   "execution_count": null,
   "id": "d9772d6d",
   "metadata": {},
   "outputs": [],
   "source": [
    "import pandas as pd\n",
    "import numpy as np\n",
    "import matplotlib.pyplot as plt\n",
    "import seaborn as sns\n",
    "from datetime import datetime, timedelta\n"
   ]
  },
  {
   "cell_type": "markdown",
   "id": "17cc35b6",
   "metadata": {},
   "source": [
    "## Load and Clean Dataset"
   ]
  },
  {
   "cell_type": "code",
   "execution_count": null,
   "id": "710a69ea",
   "metadata": {},
   "outputs": [],
   "source": [
    "# Load Excel or CSV dataset\n",
    "df = pd.read_excel(\"data/online_retail.xlsx\")\n",
    "\n",
    "# Clean and preprocess\n",
    "df = df.dropna(subset=['CustomerID'])\n",
    "df = df[df['Quantity'] >= 0]\n",
    "df = df.drop_duplicates()\n",
    "\n",
    "excluded_rows = df.shape[0] - df_clean.shape[0]\n",
    "excluded_pct = round((excluded_rows / df.shape[0]) * 100, 2)\n",
    "print(f\"{excluded_rows} rows removed ({excluded_pct}% of original data).\")\n",
    "\n",
    "df['TotalPrice'] = df['Quantity'] * df['UnitPrice']\n",
    "df['InvoiceDate'] = pd.to_datetime(df['InvoiceDate'])\n",
    "df['InvoiceMonth'] = df['InvoiceDate'].dt.to_period('M')\n"
   ]
  },
  {
   "cell_type": "markdown",
   "id": "06260cd8",
   "metadata": {},
   "source": [
    "## Part 1: Cohort Analysis"
   ]
  },
  {
   "cell_type": "code",
   "execution_count": null,
   "id": "6f401638",
   "metadata": {},
   "outputs": [],
   "source": [
    "# Assign cohort month based on user's first purchase\n",
    "df['CohortMonth'] = df.groupby('CustomerID')['InvoiceDate'].transform('min').dt.to_period('M')\n",
    "\n",
    "# Create cohort index (months since first purchase)\n",
    "df['CohortIndex'] = (df['InvoiceMonth'].dt.to_timestamp() - df['CohortMonth'].dt.to_timestamp()).dt.days // 30\n",
    "\n",
    "# Count unique customers per cohort\n",
    "cohort_data = df.groupby(['CohortMonth', 'CohortIndex'])['CustomerID'].nunique().reset_index()\n",
    "cohort_pivot = cohort_data.pivot(index='CohortMonth', columns='CohortIndex', values='CustomerID')\n",
    "\n",
    "# Retention matrix\n",
    "cohort_size = cohort_pivot.iloc[:,0]\n",
    "retention = cohort_pivot.divide(cohort_size, axis=0).round(3)\n",
    "\n",
    "# Plot heatmap\n",
    "plt.figure(figsize=(10,6))\n",
    "sns.heatmap(retention, annot=True, fmt='.0%', cmap='Blues')\n",
    "plt.title(\"Customer Retention by Cohort\")\n",
    "plt.ylabel(\"Cohort Month\")\n",
    "plt.xlabel(\"Months Since First Purchase\")\n",
    "plt.show()\n"
   ]
  },
  {
   "cell_type": "markdown",
   "id": "0947c30a",
   "metadata": {},
   "source": [
    "## Part 2: Churn Prediction"
   ]
  },
  {
   "cell_type": "code",
   "execution_count": null,
   "id": "ee9d018a",
   "metadata": {},
   "outputs": [],
   "source": [
    "from sklearn.linear_model import LogisticRegression\n",
    "from sklearn.model_selection import train_test_split\n",
    "from sklearn.metrics import roc_auc_score, classification_report\n",
    "\n",
    "# Create churn label: no purchase in last 90 days\n",
    "snapshot_date = df['InvoiceDate'].max() + timedelta(days=1)\n",
    "rfm = df.groupby('CustomerID').agg({\n",
    "    'InvoiceDate': [lambda x: (snapshot_date - x.max()).days,\n",
    "                    lambda x: (x.max() - x.min()).days],\n",
    "    'InvoiceNo': 'count',\n",
    "    'TotalPrice': 'sum'\n",
    "})\n",
    "rfm.columns = ['Recency', 'Tenure', 'Frequency', 'Monetary']\n",
    "rfm = rfm[rfm['Monetary'] > 0]\n",
    "\n",
    "rfm['Churn'] = (rfm['Recency'] > 90).astype(int)\n",
    "\n",
    "X = rfm[['Recency', 'Tenure', 'Frequency', 'Monetary']]\n",
    "y = rfm['Churn']\n",
    "\n",
    "X_train, X_test, y_train, y_test = train_test_split(X, y, test_size=0.3, random_state=42)\n",
    "model = LogisticRegression(max_iter=1000)\n",
    "model.fit(X_train, y_train)\n",
    "y_pred = model.predict(X_test)\n",
    "\n",
    "print(classification_report(y_test, y_pred))\n",
    "print(\"ROC AUC Score:\", roc_auc_score(y_test, model.predict_proba(X_test)[:,1]))\n"
   ]
  },
  {
   "cell_type": "markdown",
   "id": "dd608895",
   "metadata": {},
   "source": [
    "## Part 3: Latent Trait Personas with PCA"
   ]
  },
  {
   "cell_type": "code",
   "execution_count": null,
   "id": "b0b77c63",
   "metadata": {},
   "outputs": [],
   "source": [
    "from sklearn.decomposition import PCA\n",
    "from sklearn.preprocessing import StandardScaler\n",
    "\n",
    "scaler = StandardScaler()\n",
    "X_scaled = scaler.fit_transform(X)\n",
    "\n",
    "pca = PCA(n_components=2)\n",
    "X_pca = pca.fit_transform(X_scaled)\n",
    "\n",
    "# Plot PCA components\n",
    "plt.figure(figsize=(8,6))\n",
    "plt.scatter(X_pca[:,0], X_pca[:,1], c=rfm['Churn'], cmap='coolwarm', alpha=0.5)\n",
    "plt.title(\"Latent Customer Traits via PCA\")\n",
    "plt.xlabel(\"Component 1\")\n",
    "plt.ylabel(\"Component 2\")\n",
    "plt.show()\n"
   ]
  },
  {
   "cell_type": "markdown",
   "id": "edee655e",
   "metadata": {},
   "source": [
    "## Summary: Comparing Segmentation Methods"
   ]
  },
  {
   "cell_type": "markdown",
   "id": "4eb2a007",
   "metadata": {},
   "source": [
    "\n",
    "| Method           | Pros                          | Cons                         | Best Use Case                     |\n",
    "|------------------|-------------------------------|-------------------------------|------------------------------------|\n",
    "| Cohort           | Easy to interpret, retention-focused | Misses individual variation | Lifecycle marketing, LTV modeling  |\n",
    "| Churn Prediction | Predictive, actionable        | Needs label, some modeling   | Win-back campaigns, risk targeting |\n",
    "| Latent Personas  | Unsupervised, exploratory     | Harder to explain segments   | UX, personalization, discovery     |\n",
    "\n",
    "**Recommendation**: Choose the method based on the business question:\n",
    "- Use **cohort** when analyzing lifecycle/retention\n",
    "- Use **churn model** when targeting actions\n",
    "- Use **PCA or clustering** to explore unknown customer behaviors\n"
   ]
  }
 ],
 "metadata": {
  "kernelspec": {
   "display_name": "Python 3 (ipykernel)",
   "language": "python",
   "name": "python3"
  },
  "language_info": {
   "codemirror_mode": {
    "name": "ipython",
    "version": 3
   },
   "file_extension": ".py",
   "mimetype": "text/x-python",
   "name": "python",
   "nbconvert_exporter": "python",
   "pygments_lexer": "ipython3",
   "version": "3.9.13"
  }
 },
 "nbformat": 4,
 "nbformat_minor": 5
}
