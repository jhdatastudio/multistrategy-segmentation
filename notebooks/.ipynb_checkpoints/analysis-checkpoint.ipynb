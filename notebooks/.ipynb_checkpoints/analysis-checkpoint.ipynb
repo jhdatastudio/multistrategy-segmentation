{
 "cells": [
  {
   "cell_type": "markdown",
   "id": "31bbae59",
   "metadata": {},
   "source": [
    "# Demo 5: Customer Segmentation with RFM Scoring & Persona Mapping"
   ]
  },
  {
   "cell_type": "markdown",
   "id": "4c7a5ecd",
   "metadata": {},
   "source": [
    "\n",
    "In this notebook, we perform customer segmentation using RFM analysis — a simple but powerful technique based on Recency, Frequency, and Monetary value.\n",
    "\n",
    "Instead of using clustering, we define customer personas based on RFM score combinations and provide actionable insights.\n"
   ]
  },
  {
   "cell_type": "code",
   "execution_count": null,
   "id": "2abacc68",
   "metadata": {},
   "outputs": [],
   "source": [
    "import pandas as pd\n",
    "import numpy as np\n",
    "import matplotlib.pyplot as plt\n",
    "import seaborn as sns\n"
   ]
  },
  {
   "cell_type": "markdown",
   "id": "370b4cfc",
   "metadata": {},
   "source": [
    "## Load and preview dataset"
   ]
  },
  {
   "cell_type": "code",
   "execution_count": null,
   "id": "eb47c4f6",
   "metadata": {},
   "outputs": [],
   "source": [
    "# Replace with actual data path\n",
    "df = pd.read_csv(\"data/online_retail.csv\", encoding='ISO-8859-1')\n",
    "df.head()\n"
   ]
  },
  {
   "cell_type": "markdown",
   "id": "de11d139",
   "metadata": {},
   "source": [
    "## Data Cleaning"
   ]
  },
  {
   "cell_type": "code",
   "execution_count": null,
   "id": "ab49df82",
   "metadata": {},
   "outputs": [],
   "source": [
    "df = df.dropna()\n",
    "df = df[(df['Quantity'] > 0) & (df['UnitPrice'] > 0)]\n",
    "df['TotalPrice'] = df['Quantity'] * df['UnitPrice']\n",
    "df['InvoiceDate'] = pd.to_datetime(df['InvoiceDate'])\n"
   ]
  },
  {
   "cell_type": "markdown",
   "id": "abed8ea9",
   "metadata": {},
   "source": [
    "## RFM Metric Calculation"
   ]
  },
  {
   "cell_type": "code",
   "execution_count": null,
   "id": "17945c89",
   "metadata": {},
   "outputs": [],
   "source": [
    "snapshot_date = df['InvoiceDate'].max() + pd.Timedelta(days=1)\n",
    "\n",
    "rfm = df.groupby('CustomerID').agg({\n",
    "    'InvoiceDate': lambda x: (snapshot_date - x.max()).days,\n",
    "    'InvoiceNo': 'count',\n",
    "    'TotalPrice': 'sum'\n",
    "})\n",
    "rfm.rename(columns={'InvoiceDate': 'Recency', 'InvoiceNo': 'Frequency', 'TotalPrice': 'Monetary'}, inplace=True)\n",
    "rfm = rfm[rfm.Monetary > 0]\n",
    "rfm.head()\n"
   ]
  },
  {
   "cell_type": "markdown",
   "id": "95b5e6d4",
   "metadata": {},
   "source": [
    "## RFM Scoring and Segmentation"
   ]
  },
  {
   "cell_type": "code",
   "execution_count": null,
   "id": "ce7300c3",
   "metadata": {},
   "outputs": [],
   "source": [
    "# Score each RFM metric from 1 (low) to 5 (high)\n",
    "rfm['R_Score'] = pd.qcut(rfm['Recency'], 5, labels=[5,4,3,2,1]).astype(int)\n",
    "rfm['F_Score'] = pd.qcut(rfm['Frequency'].rank(method='first'), 5, labels=[1,2,3,4,5]).astype(int)\n",
    "rfm['M_Score'] = pd.qcut(rfm['Monetary'], 5, labels=[1,2,3,4,5]).astype(int)\n",
    "\n",
    "rfm['RFM_Score'] = rfm[['R_Score', 'F_Score', 'M_Score']].sum(axis=1)\n",
    "rfm.head()\n"
   ]
  },
  {
   "cell_type": "markdown",
   "id": "9ee7393e",
   "metadata": {},
   "source": [
    "## Define Customer Personas"
   ]
  },
  {
   "cell_type": "code",
   "execution_count": null,
   "id": "5bc34d6a",
   "metadata": {},
   "outputs": [],
   "source": [
    "def segment_customer(row):\n",
    "    if row['RFM_Score'] >= 13:\n",
    "        return 'VIP'\n",
    "    elif row['RFM_Score'] >= 10:\n",
    "        return 'Loyal'\n",
    "    elif row['RFM_Score'] >= 6:\n",
    "        return 'Potential'\n",
    "    else:\n",
    "        return 'At Risk'\n",
    "\n",
    "rfm['Segment'] = rfm.apply(segment_customer, axis=1)\n",
    "rfm.head()\n"
   ]
  },
  {
   "cell_type": "markdown",
   "id": "080e1419",
   "metadata": {},
   "source": [
    "## Segment Analysis"
   ]
  },
  {
   "cell_type": "code",
   "execution_count": null,
   "id": "fbe03dd2",
   "metadata": {},
   "outputs": [],
   "source": [
    "segment_stats = rfm.groupby('Segment').agg({\n",
    "    'Recency': 'mean',\n",
    "    'Frequency': 'mean',\n",
    "    'Monetary': ['mean', 'count']\n",
    "}).round(1)\n",
    "segment_stats.columns = ['Recency_Mean', 'Frequency_Mean', 'Monetary_Mean', 'Count']\n",
    "segment_stats.sort_values('Monetary_Mean', ascending=False)\n"
   ]
  },
  {
   "cell_type": "markdown",
   "id": "e42b6c47",
   "metadata": {},
   "source": [
    "## Visualization"
   ]
  },
  {
   "cell_type": "code",
   "execution_count": null,
   "id": "aa9c287d",
   "metadata": {},
   "outputs": [],
   "source": [
    "plt.figure(figsize=(8,5))\n",
    "sns.countplot(x='Segment', data=rfm, order=rfm['Segment'].value_counts().index)\n",
    "plt.title('Customer Counts by Segment')\n",
    "plt.show()\n"
   ]
  },
  {
   "cell_type": "markdown",
   "id": "c02854d3",
   "metadata": {},
   "source": [
    "## Conclusion"
   ]
  },
  {
   "cell_type": "markdown",
   "id": "0652c8d7",
   "metadata": {},
   "source": [
    "\n",
    "This RFM segmentation provides a human-readable, business-friendly way to understand customer behavior:\n",
    "\n",
    "- **VIPs**: Frequent, recent, and high spend — target with loyalty programs.\n",
    "- **Loyal**: Regular buyers — maintain engagement.\n",
    "- **Potential**: Moderate metrics — room to grow.\n",
    "- **At Risk**: Infrequent or low spend — consider win-back campaigns.\n",
    "\n",
    "This approach is fast, interpretable, and forms a foundation for retention, upsell, or re-engagement strategies.\n"
   ]
  },
  {
   "cell_type": "markdown",
   "id": "5c5c4239",
   "metadata": {},
   "source": [
    "## Bonus: DBSCAN Clustering on RFM Scores"
   ]
  },
  {
   "cell_type": "code",
   "execution_count": null,
   "id": "8e52a450",
   "metadata": {},
   "outputs": [],
   "source": [
    "from sklearn.preprocessing import StandardScaler\n",
    "from sklearn.cluster import DBSCAN\n",
    "from sklearn.decomposition import PCA\n",
    "\n",
    "# Prepare scaled features\n",
    "scaler = StandardScaler()\n",
    "rfm_scaled = scaler.fit_transform(rfm[['Recency', 'Frequency', 'Monetary']])\n",
    "\n",
    "# Reduce to 2D for clustering visualization\n",
    "pca = PCA(n_components=2)\n",
    "rfm_pca = pca.fit_transform(rfm_scaled)\n",
    "\n",
    "# Apply DBSCAN\n",
    "db = DBSCAN(eps=0.5, min_samples=5)\n",
    "clusters = db.fit_predict(rfm_pca)\n",
    "\n",
    "# Add cluster to DataFrame\n",
    "rfm['Cluster_DBSCAN'] = clusters\n"
   ]
  },
  {
   "cell_type": "code",
   "execution_count": null,
   "id": "96055d1c",
   "metadata": {},
   "outputs": [],
   "source": [
    "# Visualize clusters\n",
    "rfm_pca_df = pd.DataFrame(rfm_pca, columns=[\"PC1\", \"PC2\"])\n",
    "rfm_pca_df['Cluster'] = clusters\n",
    "\n",
    "plt.figure(figsize=(10,6))\n",
    "sns.scatterplot(data=rfm_pca_df, x=\"PC1\", y=\"PC2\", hue=\"Cluster\", palette=\"tab10\")\n",
    "plt.title(\"DBSCAN Clustering of RFM Segments\")\n",
    "plt.show()\n"
   ]
  },
  {
   "cell_type": "markdown",
   "id": "47b94cc9",
   "metadata": {},
   "source": [
    "\n",
    "Adding DBSCAN provides a **clustering-based view** of the same customer population, allowing for the identification of density-based customer groups and potential outliers. This adds depth to the earlier rule-based segmentation.\n"
   ]
  }
 ],
 "metadata": {
  "kernelspec": {
   "display_name": "Python 3 (ipykernel)",
   "language": "python",
   "name": "python3"
  },
  "language_info": {
   "codemirror_mode": {
    "name": "ipython",
    "version": 3
   },
   "file_extension": ".py",
   "mimetype": "text/x-python",
   "name": "python",
   "nbconvert_exporter": "python",
   "pygments_lexer": "ipython3",
   "version": "3.9.13"
  }
 },
 "nbformat": 4,
 "nbformat_minor": 5
}
